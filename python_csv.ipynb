{
 "cells": [
  {
   "cell_type": "code",
   "execution_count": 1,
   "id": "702b222a-56e5-49d8-a6f3-e9eb5bae1b0f",
   "metadata": {},
   "outputs": [],
   "source": [
    "import requests\n",
    "from bs4 import BeautifulSoup"
   ]
  },
  {
   "cell_type": "code",
   "execution_count": 2,
   "id": "1c713ce6-0adc-466a-9d83-214e903b1b9a",
   "metadata": {},
   "outputs": [],
   "source": [
    "url = 'https://en.wikipedia.org/wiki/Comma-separated values'\n",
    "res = requests.get(url)"
   ]
  },
  {
   "cell_type": "code",
   "execution_count": 3,
   "id": "cfd4ba3a-8fd8-4790-ac5f-7b64cad07186",
   "metadata": {},
   "outputs": [
    {
     "data": {
      "text/plain": [
       "<Response [200]>"
      ]
     },
     "execution_count": 3,
     "metadata": {},
     "output_type": "execute_result"
    }
   ],
   "source": [
    "res"
   ]
  },
  {
   "cell_type": "code",
   "execution_count": 4,
   "id": "0f0c9972-7084-4ff5-aecb-cf56c7d28577",
   "metadata": {},
   "outputs": [
    {
     "name": "stdout",
     "output_type": "stream",
     "text": [
      "Year,Make,Model,Description,Price\n",
      "\n",
      "1997,Ford,E350,ac, abs, moon,3000.00\n",
      "\n",
      "1999,Chevy,Venture \"Extended Edition\",,4900.00\n",
      "\n",
      "1999,Chevy,Venture \"Extended Edition, Very Large\",,5000.00\n",
      "\n",
      "1996,Jeep,Grand Cherokee,MUST SELL!air, moon roof, loaded,4799.00\n",
      "\n"
     ]
    }
   ],
   "source": [
    "soup = BeautifulSoup(res.text, 'html.parser')\n",
    "data = []\n",
    "\n",
    "Wikitable = soup.find('table', attrs={'class': 'wikitable'})\n",
    "\n",
    "tbody = Wikitable.find('tbody') \n",
    "trs = tbody.find_all('tr')  \n",
    "\n",
    "for tr in trs:\n",
    "    r = []\n",
    "    for th in tr.find_all('th'):\n",
    "        r.append(th.text)\n",
    "        \n",
    "    for td in tr.find_all('td'):  \n",
    "        r.append(td.text)  \n",
    "    \n",
    "    data.append(r)\n",
    "\n",
    "\n",
    "for r in data:\n",
    "    print(','.join(r))  "
   ]
  },
  {
   "cell_type": "code",
   "execution_count": 5,
   "id": "7983e4fb-102b-4938-b471-2a6592165b3e",
   "metadata": {},
   "outputs": [
    {
     "data": {
      "text/plain": [
       "[['Year', 'Make', 'Model', 'Description', 'Price\\n'],\n",
       " ['1997', 'Ford', 'E350', 'ac, abs, moon', '3000.00\\n'],\n",
       " ['1999', 'Chevy', 'Venture \"Extended Edition\"', '', '4900.00\\n'],\n",
       " ['1999', 'Chevy', 'Venture \"Extended Edition, Very Large\"', '', '5000.00\\n'],\n",
       " ['1996',\n",
       "  'Jeep',\n",
       "  'Grand Cherokee',\n",
       "  'MUST SELL!air, moon roof, loaded',\n",
       "  '4799.00\\n']]"
      ]
     },
     "execution_count": 5,
     "metadata": {},
     "output_type": "execute_result"
    }
   ],
   "source": [
    "data"
   ]
  },
  {
   "cell_type": "code",
   "execution_count": 7,
   "id": "5ffeb81e-28e6-426c-bf90-56a7a7fb8b4d",
   "metadata": {},
   "outputs": [],
   "source": [
    "import pandas as pd"
   ]
  },
  {
   "cell_type": "code",
   "execution_count": 11,
   "id": "551400fe-acbc-4e73-9423-434209813d84",
   "metadata": {},
   "outputs": [],
   "source": [
    "df = pd.DataFrame(data)"
   ]
  },
  {
   "cell_type": "code",
   "execution_count": 12,
   "id": "9e484850-7f81-4c9d-8a8d-d27c3b0a022a",
   "metadata": {},
   "outputs": [
    {
     "data": {
      "text/html": [
       "<div>\n",
       "<style scoped>\n",
       "    .dataframe tbody tr th:only-of-type {\n",
       "        vertical-align: middle;\n",
       "    }\n",
       "\n",
       "    .dataframe tbody tr th {\n",
       "        vertical-align: top;\n",
       "    }\n",
       "\n",
       "    .dataframe thead th {\n",
       "        text-align: right;\n",
       "    }\n",
       "</style>\n",
       "<table border=\"1\" class=\"dataframe\">\n",
       "  <thead>\n",
       "    <tr style=\"text-align: right;\">\n",
       "      <th></th>\n",
       "      <th>0</th>\n",
       "      <th>1</th>\n",
       "      <th>2</th>\n",
       "      <th>3</th>\n",
       "      <th>4</th>\n",
       "    </tr>\n",
       "  </thead>\n",
       "  <tbody>\n",
       "    <tr>\n",
       "      <th>0</th>\n",
       "      <td>Year</td>\n",
       "      <td>Make</td>\n",
       "      <td>Model</td>\n",
       "      <td>Description</td>\n",
       "      <td>Price\\n</td>\n",
       "    </tr>\n",
       "    <tr>\n",
       "      <th>1</th>\n",
       "      <td>1997</td>\n",
       "      <td>Ford</td>\n",
       "      <td>E350</td>\n",
       "      <td>ac, abs, moon</td>\n",
       "      <td>3000.00\\n</td>\n",
       "    </tr>\n",
       "    <tr>\n",
       "      <th>2</th>\n",
       "      <td>1999</td>\n",
       "      <td>Chevy</td>\n",
       "      <td>Venture \"Extended Edition\"</td>\n",
       "      <td></td>\n",
       "      <td>4900.00\\n</td>\n",
       "    </tr>\n",
       "    <tr>\n",
       "      <th>3</th>\n",
       "      <td>1999</td>\n",
       "      <td>Chevy</td>\n",
       "      <td>Venture \"Extended Edition, Very Large\"</td>\n",
       "      <td></td>\n",
       "      <td>5000.00\\n</td>\n",
       "    </tr>\n",
       "    <tr>\n",
       "      <th>4</th>\n",
       "      <td>1996</td>\n",
       "      <td>Jeep</td>\n",
       "      <td>Grand Cherokee</td>\n",
       "      <td>MUST SELL!air, moon roof, loaded</td>\n",
       "      <td>4799.00\\n</td>\n",
       "    </tr>\n",
       "  </tbody>\n",
       "</table>\n",
       "</div>"
      ],
      "text/plain": [
       "      0      1                                       2  \\\n",
       "0  Year   Make                                   Model   \n",
       "1  1997   Ford                                    E350   \n",
       "2  1999  Chevy              Venture \"Extended Edition\"   \n",
       "3  1999  Chevy  Venture \"Extended Edition, Very Large\"   \n",
       "4  1996   Jeep                          Grand Cherokee   \n",
       "\n",
       "                                  3          4  \n",
       "0                       Description    Price\\n  \n",
       "1                     ac, abs, moon  3000.00\\n  \n",
       "2                                    4900.00\\n  \n",
       "3                                    5000.00\\n  \n",
       "4  MUST SELL!air, moon roof, loaded  4799.00\\n  "
      ]
     },
     "execution_count": 12,
     "metadata": {},
     "output_type": "execute_result"
    }
   ],
   "source": [
    "df"
   ]
  },
  {
   "cell_type": "code",
   "execution_count": 13,
   "id": "b41eb202-d2cb-4dd2-a337-c10d2e599587",
   "metadata": {},
   "outputs": [],
   "source": [
    "df.to_csv('python_csv', index=False)"
   ]
  },
  {
   "cell_type": "code",
   "execution_count": null,
   "id": "7421e30b-f159-4ac0-bb46-fb8802dbca03",
   "metadata": {},
   "outputs": [],
   "source": []
  }
 ],
 "metadata": {
  "kernelspec": {
   "display_name": "Python 3 (ipykernel)",
   "language": "python",
   "name": "python3"
  },
  "language_info": {
   "codemirror_mode": {
    "name": "ipython",
    "version": 3
   },
   "file_extension": ".py",
   "mimetype": "text/x-python",
   "name": "python",
   "nbconvert_exporter": "python",
   "pygments_lexer": "ipython3",
   "version": "3.9.7"
  }
 },
 "nbformat": 4,
 "nbformat_minor": 5
}
